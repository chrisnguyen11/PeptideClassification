{
 "cells": [
  {
   "cell_type": "markdown",
   "metadata": {},
   "source": [
    "# EDA "
   ]
  },
  {
   "cell_type": "code",
   "execution_count": 1,
   "metadata": {},
   "outputs": [],
   "source": [
    "import pandas as pd\n",
    "import numpy as np"
   ]
  },
  {
   "cell_type": "code",
   "execution_count": 13,
   "metadata": {},
   "outputs": [
    {
     "name": "stdout",
     "output_type": "stream",
     "text": [
      "['mod. active' 'inactive - exp' 'very active' 'inactive - virtual']\n"
     ]
    },
    {
     "data": {
      "text/plain": [
       "<AxesSubplot:>"
      ]
     },
     "execution_count": 13,
     "metadata": {},
     "output_type": "execute_result"
    },
    {
     "data": {
      "image/png": "[encoded data removed]",
      "text/plain": [
       "<Figure size 432x288 with 1 Axes>"
      ]
     },
     "metadata": {
      "needs_background": "light"
     },
     "output_type": "display_data"
    }
   ],
   "source": [
    "lung_df = pd.read_csv('raw_data/archive/ACPs_Lung_cancer.csv')\n",
    "print(lung_df['class'].unique())\n",
    "lung_df['class'].hist()\n"
   ]
  },
  {
   "cell_type": "code",
   "execution_count": 14,
   "metadata": {},
   "outputs": [
    {
     "name": "stdout",
     "output_type": "stream",
     "text": [
      "      ID                 sequence  class\n",
      "0      1  AIGKFLHSAKKFGKAFVGEIMNS      1\n",
      "1      2            FAKALAKLAKKLL      1\n",
      "2      3          FAKALKALLKALKAL      1\n",
      "3      4            FAKFLAKFLKKAL      1\n",
      "4      5         FAKIIAKIAKIAKKIL      0\n",
      "..   ...                      ...    ...\n",
      "896  897  YLDKEVKLIKKMGNHLTNLRRVA      0\n",
      "897  898  YLSESVETIKKLGDHITSLKKLW      0\n",
      "898  899          YPIVDAAMRQLTETG      0\n",
      "899  900         YQNIVKAVQYAARKLQ      0\n",
      "900  901            YQQQKKYLGRMTE      0\n",
      "\n",
      "[901 rows x 3 columns]\n"
     ]
    }
   ],
   "source": [
    "# map label to numerical labels \n",
    "label_map = {\n",
    "            'inactive - virtual': 0,\n",
    "            'inactive - exp' : 0,\n",
    "            'mod. active' : 1,\n",
    "            'very active' : 2\n",
    "            }\n",
    "lung_df['class'] = lung_df['class'].map(label_map)\n",
    "print(lung_df)"
   ]
  },
  {
   "cell_type": "code",
   "execution_count": 16,
   "metadata": {},
   "outputs": [
    {
     "name": "stdout",
     "output_type": "stream",
     "text": [
      "['mod. active' 'inactive - exp' 'very active' 'inactive - virtual']\n"
     ]
    },
    {
     "data": {
      "text/plain": [
       "<AxesSubplot:>"
      ]
     },
     "execution_count": 16,
     "metadata": {},
     "output_type": "execute_result"
    },
    {
     "data": {
      "image/png": "[encoded data removed]",
      "text/plain": [
       "<Figure size 432x288 with 1 Axes>"
      ]
     },
     "metadata": {
      "needs_background": "light"
     },
     "output_type": "display_data"
    }
   ],
   "source": [
    "breast_df = pd.read_csv('raw_data/archive/ACPs_Breast_cancer.csv')\n",
    "print(breast_df['class'].unique())\n",
    "breast_df['class'].hist()"
   ]
  },
  {
   "cell_type": "code",
   "execution_count": 18,
   "metadata": {},
   "outputs": [
    {
     "name": "stdout",
     "output_type": "stream",
     "text": [
      "      ID                 sequence  class\n",
      "0      1    AAWKWAWAKKWAKAKKWAKAA      1\n",
      "1      2  AIGKFLHSAKKFGKAFVGEIMNS      1\n",
      "2      3    AWKKWAKAWKWAKAKWWAKAA      1\n",
      "3      4             ESFSDWWKLLAE      1\n",
      "4      5             ETFADWWKLLAE      1\n",
      "..   ...                      ...    ...\n",
      "944  945  YLDKEVKLIKKMGNHLTNLRRVA      0\n",
      "945  946  YLSESVETIKKLGDHITSLKKLW      0\n",
      "946  947          YPIVDAAMRQLTETG      0\n",
      "947  948         YQNIVKAVQYAARKLQ      0\n",
      "948  949            YQQQKKYLGRMTE      0\n",
      "\n",
      "[949 rows x 3 columns]\n"
     ]
    }
   ],
   "source": [
    "breast_df['class'] = breast_df['class'].map(label_map)\n",
    "print(breast_df)"
   ]
  },
  {
   "cell_type": "code",
   "execution_count": 31,
   "metadata": {},
   "outputs": [
    {
     "name": "stdout",
     "output_type": "stream",
     "text": [
      "1850 971\n"
     ]
    }
   ],
   "source": [
    "bset = set(breast_df['sequence'])\n",
    "lset = set(lung_df['sequence'])\n",
    "print(len(bset) + len(lset), len(bset.union(lset)))"
   ]
  },
  {
   "cell_type": "code",
   "execution_count": null,
   "metadata": {},
   "outputs": [],
   "source": []
  }
 ],
 "metadata": {
  "kernelspec": {
   "display_name": "Python 3.8.3 ('base')",
   "language": "python",
   "name": "python3"
  },
  "language_info": {
   "codemirror_mode": {
    "name": "ipython",
    "version": 3
   },
   "file_extension": ".py",
   "mimetype": "text/x-python",
   "name": "python",
   "nbconvert_exporter": "python",
   "pygments_lexer": "ipython3",
   "version": "3.8.3"
  },
  "orig_nbformat": 4,
  "vscode": {
   "interpreter": {
    "hash": "9edf5b3d3baff32fed2e0aab583646c2351b3855c8bcfaeecd428b97d8570e83"
   }
  }
 },
 "nbformat": 4,
 "nbformat_minor": 2
}
